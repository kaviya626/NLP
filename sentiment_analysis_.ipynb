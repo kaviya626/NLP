{
  "nbformat": 4,
  "nbformat_minor": 0,
  "metadata": {
    "colab": {
      "provenance": []
    },
    "kernelspec": {
      "name": "python3",
      "display_name": "Python 3"
    },
    "language_info": {
      "name": "python"
    }
  },
  "cells": [
    {
      "cell_type": "code",
      "source": [
        "import pandas as pd\n",
        "import nltk\n",
        "from sklearn.model_selection import train_test_split\n",
        "from sklearn.feature_extraction.text import TfidfVectorizer\n",
        "from sklearn.naive_bayes import MultinomialNB\n",
        "from sklearn.metrics import classification_report, accuracy_score\n",
        "from sklearn.pipeline import make_pipeline\n",
        "\n",
        "\n",
        "nltk.download('vader_lexicon')\n",
        "\n",
        "\n",
        "df = pd.read_csv('/content/file.csv', engine='python', on_bad_lines='skip')\n",
        "\n",
        "df['tweets'] = df['tweets'].astype(str)\n",
        "df.dropna(subset=['tweets'], inplace=True)\n",
        "\n",
        "df['Sentiment'] = df['labels']\n",
        "\n",
        "\n",
        "X = df['tweets']\n",
        "y = df['Sentiment']\n",
        "\n",
        "X_train, X_test, y_train, y_test = train_test_split(X, y, test_size=0.2, random_state=42)\n",
        "\n",
        "\n",
        "pipeline = make_pipeline(TfidfVectorizer(), MultinomialNB())\n",
        "pipeline.fit(X_train, y_train)\n",
        "\n",
        "\n",
        "y_pred = pipeline.predict(X_test)\n",
        "\n",
        "\n",
        "print(f'Accuracy: {accuracy_score(y_test, y_pred):.4f}')\n",
        "print(classification_report(y_test, y_pred))\n",
        "\n",
        "\n",
        "def classify_new_review(review_text):\n",
        "    sentiment = pipeline.predict([review_text])\n",
        "    return sentiment[0]\n",
        "\n",
        "\n",
        "new_review = \"I absolutely love this product! It's amazing.\"\n",
        "print(f\"Sentiment for the review: {new_review} => {classify_new_review(new_review)}\")\n",
        "\n",
        "\n",
        "negative_review = \"The product broke down after two days. Very disappointing.\"\n",
        "print(f\"Sentiment for the review: {negative_review} => {classify_new_review(negative_review)}\")\n",
        "\n",
        "\n",
        "neutral_review = \"The product is okay, not too bad, but not great either.\"\n",
        "print(f\"Sentiment for the review: {neutral_review} => {classify_new_review(neutral_review)}\")"
      ],
      "metadata": {
        "colab": {
          "base_uri": "https://localhost:8080/"
        },
        "id": "Pa8P2D8kkPC0",
        "outputId": "eca8a6c4-dbfc-429b-bca1-19bf4a4af70e"
      },
      "execution_count": 11,
      "outputs": [
        {
          "output_type": "stream",
          "name": "stderr",
          "text": [
            "[nltk_data] Downloading package vader_lexicon to /root/nltk_data...\n",
            "[nltk_data]   Package vader_lexicon is already up-to-date!\n"
          ]
        },
        {
          "output_type": "stream",
          "name": "stdout",
          "text": [
            "Accuracy: 0.6516\n",
            "              precision    recall  f1-score   support\n",
            "\n",
            "         bad       0.61      0.99      0.75     21474\n",
            "        good       0.81      0.56      0.66     11204\n",
            "     neutral       0.81      0.10      0.17     11181\n",
            "\n",
            "    accuracy                           0.65     43859\n",
            "   macro avg       0.74      0.55      0.53     43859\n",
            "weighted avg       0.71      0.65      0.58     43859\n",
            "\n",
            "Sentiment for the review: I absolutely love this product! It's amazing. => good\n",
            "Sentiment for the review: The product broke down after two days. Very disappointing. => bad\n",
            "Sentiment for the review: The product is okay, not too bad, but not great either. => good\n"
          ]
        }
      ]
    }
  ]
}